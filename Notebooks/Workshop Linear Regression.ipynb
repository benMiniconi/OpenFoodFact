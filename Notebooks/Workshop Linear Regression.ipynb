{
 "cells": [
  {
   "cell_type": "code",
   "execution_count": 2,
   "id": "different-branch",
   "metadata": {},
   "outputs": [],
   "source": [
    "#Loading necessary Libs for workshop\n",
    "import numpy as np\n",
    "import pandas as pd\n",
    "import matplotlib.pyplot as plt"
   ]
  },
  {
   "cell_type": "code",
   "execution_count": 69,
   "id": "sweet-tulsa",
   "metadata": {},
   "outputs": [
    {
     "data": {
      "text/plain": [
       "<bound method NDFrame.describe of      price  surface  arrondissement\n",
       "0     1820    46.10               1\n",
       "1     1750    41.00               1\n",
       "2     1900    55.00               1\n",
       "3     1950    46.00               1\n",
       "4     1950    49.00               1\n",
       "..     ...      ...             ...\n",
       "809    850    35.00              10\n",
       "810    700    10.00              10\n",
       "811   1280    34.00              10\n",
       "812   1545    65.00              10\n",
       "813   1000    21.43              10\n",
       "\n",
       "[814 rows x 3 columns]>"
      ]
     },
     "execution_count": 69,
     "metadata": {},
     "output_type": "execute_result"
    }
   ],
   "source": [
    "#Load dataframe with pandas from DataSet folder\n",
    "house_data = pd.read_csv(\"../DataSet/clean_house_data.csv\", sep=\";\", decimal=\",\")\n",
    "#Describe dataset specifications\n",
    "house_data.describe"
   ]
  },
  {
   "cell_type": "code",
   "execution_count": 70,
   "id": "solid-undergraduate",
   "metadata": {},
   "outputs": [
    {
     "data": {
      "text/html": [
       "<div>\n",
       "<style scoped>\n",
       "    .dataframe tbody tr th:only-of-type {\n",
       "        vertical-align: middle;\n",
       "    }\n",
       "\n",
       "    .dataframe tbody tr th {\n",
       "        vertical-align: top;\n",
       "    }\n",
       "\n",
       "    .dataframe thead th {\n",
       "        text-align: right;\n",
       "    }\n",
       "</style>\n",
       "<table border=\"1\" class=\"dataframe\">\n",
       "  <thead>\n",
       "    <tr style=\"text-align: right;\">\n",
       "      <th></th>\n",
       "      <th>price</th>\n",
       "      <th>surface</th>\n",
       "      <th>arrondissement</th>\n",
       "    </tr>\n",
       "  </thead>\n",
       "  <tbody>\n",
       "    <tr>\n",
       "      <th>0</th>\n",
       "      <td>1820</td>\n",
       "      <td>46.1</td>\n",
       "      <td>1</td>\n",
       "    </tr>\n",
       "    <tr>\n",
       "      <th>1</th>\n",
       "      <td>1750</td>\n",
       "      <td>41.0</td>\n",
       "      <td>1</td>\n",
       "    </tr>\n",
       "    <tr>\n",
       "      <th>2</th>\n",
       "      <td>1900</td>\n",
       "      <td>55.0</td>\n",
       "      <td>1</td>\n",
       "    </tr>\n",
       "    <tr>\n",
       "      <th>3</th>\n",
       "      <td>1950</td>\n",
       "      <td>46.0</td>\n",
       "      <td>1</td>\n",
       "    </tr>\n",
       "    <tr>\n",
       "      <th>4</th>\n",
       "      <td>1950</td>\n",
       "      <td>49.0</td>\n",
       "      <td>1</td>\n",
       "    </tr>\n",
       "    <tr>\n",
       "      <th>5</th>\n",
       "      <td>1960</td>\n",
       "      <td>67.0</td>\n",
       "      <td>1</td>\n",
       "    </tr>\n",
       "    <tr>\n",
       "      <th>6</th>\n",
       "      <td>2000</td>\n",
       "      <td>35.0</td>\n",
       "      <td>1</td>\n",
       "    </tr>\n",
       "    <tr>\n",
       "      <th>7</th>\n",
       "      <td>1900</td>\n",
       "      <td>90.6</td>\n",
       "      <td>1</td>\n",
       "    </tr>\n",
       "    <tr>\n",
       "      <th>8</th>\n",
       "      <td>2050</td>\n",
       "      <td>60.0</td>\n",
       "      <td>1</td>\n",
       "    </tr>\n",
       "    <tr>\n",
       "      <th>9</th>\n",
       "      <td>2100</td>\n",
       "      <td>47.0</td>\n",
       "      <td>1</td>\n",
       "    </tr>\n",
       "  </tbody>\n",
       "</table>\n",
       "</div>"
      ],
      "text/plain": [
       "   price  surface  arrondissement\n",
       "0   1820     46.1               1\n",
       "1   1750     41.0               1\n",
       "2   1900     55.0               1\n",
       "3   1950     46.0               1\n",
       "4   1950     49.0               1\n",
       "5   1960     67.0               1\n",
       "6   2000     35.0               1\n",
       "7   1900     90.6               1\n",
       "8   2050     60.0               1\n",
       "9   2100     47.0               1"
      ]
     },
     "execution_count": 70,
     "metadata": {},
     "output_type": "execute_result"
    }
   ],
   "source": [
    "#first ten lines\n",
    "house_data.head(10)"
   ]
  },
  {
   "cell_type": "code",
   "execution_count": 71,
   "id": "systematic-proposition",
   "metadata": {},
   "outputs": [
    {
     "data": {
      "image/png": "[encoded data removed]",
      "text/plain": [
       "<Figure size 432x288 with 1 Axes>"
      ]
     },
     "metadata": {
      "needs_background": "light"
     },
     "output_type": "display_data"
    }
   ],
   "source": [
    "#Vizualize the data with y = surface and x = price \n",
    "plt.plot(house_data[\"surface\"], house_data[\"price\"], \"ro\", markersize=5)\n",
    "plt.show()"
   ]
  },
  {
   "cell_type": "code",
   "execution_count": 72,
   "id": "loaded-manor",
   "metadata": {},
   "outputs": [
    {
     "data": {
      "image/png": "[encoded data removed]",
      "text/plain": [
       "<Figure size 432x288 with 1 Axes>"
      ]
     },
     "metadata": {
      "needs_background": "light"
     },
     "output_type": "display_data"
    }
   ],
   "source": [
    "#kill the outliers\n",
    "house_data_inside_10 = house_data[house_data[\"price\"] < 10000]\n",
    "house_data_inside_10.dropna(how='all')\n",
    "#Vizualize the data with y = surface and x = price and < 10k\n",
    "plt.plot(house_data_inside_10[\"surface\"], house_data_inside_10[\"price\"], \"ro\", markersize=5)\n",
    "plt.show()\n",
    "#it does look like a line now"
   ]
  },
  {
   "cell_type": "code",
   "execution_count": 73,
   "id": "acceptable-snake",
   "metadata": {},
   "outputs": [
    {
     "data": {
      "text/plain": [
       "matrix([[ 1. , 46.1],\n",
       "        [ 1. , 41. ],\n",
       "        [ 1. , 55. ],\n",
       "        [ 1. , 46. ],\n",
       "        [ 1. , 49. ],\n",
       "        [ 1. , 67. ],\n",
       "        [ 1. , 35. ],\n",
       "        [ 1. , 90.6],\n",
       "        [ 1. , 60. ],\n",
       "        [ 1. , 47. ]])"
      ]
     },
     "execution_count": 73,
     "metadata": {},
     "output_type": "execute_result"
    }
   ],
   "source": [
    "#lets build the matrix to train the model \n",
    "#ones return an array of ones for the specified column\n",
    "X = np.matrix([np.ones(house_data_inside_10.shape[0]), house_data_inside_10['surface'].values]).T\n",
    "y = np.matrix(house_data_inside_10['price']).T\n",
    "X[:10]\n"
   ]
  },
  {
   "cell_type": "code",
   "execution_count": 74,
   "id": "chronic-series",
   "metadata": {},
   "outputs": [
    {
     "name": "stdout",
     "output_type": "stream",
     "text": [
      "[[255.82253034]\n",
      " [ 28.98730991]]\n"
     ]
    }
   ],
   "source": [
    "#where theta is the lowest the loss function is lowest too so the better\n",
    "theta = np.linalg.inv(X.T.dot(X)).dot(X.T).dot(y)\n",
    "#print theta \n",
    "print(theta)\n",
    "#weird output to check "
   ]
  },
  {
   "cell_type": "code",
   "execution_count": 89,
   "id": "romantic-arthur",
   "metadata": {},
   "outputs": [
    {
     "data": {
      "image/png": "[encoded data removed]",
      "text/plain": [
       "<Figure size 432x288 with 1 Axes>"
      ]
     },
     "metadata": {
      "needs_background": "light"
     },
     "output_type": "display_data"
    }
   ],
   "source": [
    "#definition des labels\n",
    "plt.xlabel('surface')\n",
    "plt.ylabel('price')\n",
    "#plot graph \n",
    "plt.plot(house_data_inside_10['surface'], house_data_inside_10['price'], 'ro', markersize=4)\n",
    "\n",
    "# On affiche la droite entre 0 et 250\n",
    "plt.plot([0,250], [theta.item(0),theta.item(0) + 250 * theta.item(1)], linestyle='--', c='#000000')\n",
    "\n",
    "plt.show()"
   ]
  },
  {
   "cell_type": "code",
   "execution_count": 90,
   "id": "earned-rugby",
   "metadata": {},
   "outputs": [
    {
     "data": {
      "text/plain": [
       "array([[10401.38099859]])"
      ]
     },
     "execution_count": 90,
     "metadata": {},
     "output_type": "execute_result"
    }
   ],
   "source": [
    "#train the model with sklearn\n",
    "from sklearn import linear_model\n",
    "regr = linear_model.LinearRegression()\n",
    "regr.fit(X, y)\n",
    "regr.predict([[0, 350]])"
   ]
  },
  {
   "cell_type": "code",
   "execution_count": 91,
   "id": "ruled-charles",
   "metadata": {},
   "outputs": [],
   "source": [
    "#tryout split the dataset into 80/20 for training and testing. \n",
    "from sklearn.model_selection import train_test_split\n",
    "xtrain, xtest, ytrain, ytest = train_test_split(X, y, train_size=0.8)"
   ]
  },
  {
   "cell_type": "code",
   "execution_count": null,
   "id": "stainless-douglas",
   "metadata": {},
   "outputs": [],
   "source": []
  }
 ],
 "metadata": {
  "kernelspec": {
   "display_name": "Python 3",
   "language": "python",
   "name": "python3"
  },
  "language_info": {
   "codemirror_mode": {
    "name": "ipython",
    "version": 3
   },
   "file_extension": ".py",
   "mimetype": "text/x-python",
   "name": "python",
   "nbconvert_exporter": "python",
   "pygments_lexer": "ipython3",
   "version": "3.8.2"
  }
 },
 "nbformat": 4,
 "nbformat_minor": 5
}
